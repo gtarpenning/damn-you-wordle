{
 "cells": [
  {
   "cell_type": "code",
   "execution_count": 274,
   "id": "f8cc7620-4660-444f-992f-f1e21fcbfe3e",
   "metadata": {},
   "outputs": [],
   "source": [
    "from tqdm import tqdm\n",
    "from collections import Counter\n",
    "import seaborn as sns\n",
    "from matplotlib import pyplot as plt\n",
    "\n",
    "import numpy as np"
   ]
  },
  {
   "cell_type": "code",
   "execution_count": 1,
   "id": "b3f8ab8b-80af-400c-9a22-af0436c473cc",
   "metadata": {},
   "outputs": [],
   "source": [
    "allowed = []\n",
    "with open(\"./wordle-allowed-guesses.txt\", \"r\") as f:\n",
    "    allowed = f.read().split('\\n')\t\n",
    "\n",
    "answers = []\n",
    "with open(\"./wordle-answers-alphabetical.txt\", \"r\") as f:\n",
    "    answers = f.read().split('\\n')"
   ]
  },
  {
   "cell_type": "code",
   "execution_count": 61,
   "id": "9a343d45-c21c-472f-a200-a1ab73b57e89",
   "metadata": {},
   "outputs": [
    {
     "data": {
      "text/plain": [
       "['accas',\n",
       " 'accoy',\n",
       " 'acerb',\n",
       " 'acers',\n",
       " 'aceta',\n",
       " 'achar',\n",
       " 'ached',\n",
       " 'aches',\n",
       " 'achoo',\n",
       " 'acids']"
      ]
     },
     "execution_count": 61,
     "metadata": {},
     "output_type": "execute_result"
    }
   ],
   "source": [
    "allowed[50:60]"
   ]
  },
  {
   "cell_type": "code",
   "execution_count": 298,
   "id": "80d6ad6e-a0a7-4bb0-b769-53b29d810dd0",
   "metadata": {},
   "outputs": [],
   "source": [
    "def score_word(word, guess, entropy=True):\n",
    "    score = \"\"\n",
    "    words_left = set(answers.copy())\n",
    "    for i, (l1, l2) in enumerate(zip(word, guess)):\n",
    "        if l1 == l2:\n",
    "            score += \"X\"\n",
    "            words_left = [x for x in words_left if x[i] == l1]\n",
    "        elif l2 in word:\n",
    "            score += \"O\"\n",
    "            words_left = [x for x in words_left if l1 in x]\n",
    "        else:\n",
    "            score += \"-\"\n",
    "            words_left = [x for x in words_left if l1 not in x]\n",
    "    return score, words_left"
   ]
  },
  {
   "cell_type": "code",
   "execution_count": null,
   "id": "16657c22-0d2d-4721-b1a9-cf49601fb431",
   "metadata": {},
   "outputs": [],
   "source": []
  },
  {
   "cell_type": "code",
   "execution_count": 96,
   "id": "96593d59-fdac-4c33-b880-cea58c8ff115",
   "metadata": {},
   "outputs": [
    {
     "name": "stdout",
     "output_type": "stream",
     "text": [
      "('XX---', 20)\n"
     ]
    }
   ],
   "source": [
    "print(score_word(\"macho\", \"manys\"))"
   ]
  },
  {
   "cell_type": "code",
   "execution_count": 10,
   "id": "5e369dd1-2eca-47ef-be5f-f6db7c699c6d",
   "metadata": {},
   "outputs": [],
   "source": [
    "# {k: v for k, v in sorted(x.items(), key=lambda item: item[1])}"
   ]
  },
  {
   "cell_type": "code",
   "execution_count": 126,
   "id": "6771c041-a481-4cff-b89d-4433c1af9ad7",
   "metadata": {},
   "outputs": [
    {
     "name": "stderr",
     "output_type": "stream",
     "text": [
      "100%|█████████████████████████████████████████████████████████████████████████████████████████████████████████████████████████████████████████████████████████████████████| 10657/10657 [1:20:47<00:00,  2.20it/s]\n"
     ]
    }
   ],
   "source": [
    "hist = {}\n",
    "scores = {}\n",
    "word_paring_dict = {}\n",
    "for word in tqdm(allowed):\n",
    "    hist[word] = {}\n",
    "    word_paring_dict[word] = {}\n",
    "    scores[word] = 0.0\n",
    "    for guess in answers:\n",
    "        card, words_left = score_word(word, guess)\n",
    "        word_paring_dict[word][guess] = words_left\n",
    "        hist[word][guess] = card\n",
    "        scores[word] += len(words_left)\n",
    "    scores[word] /= len(answers)"
   ]
  },
  {
   "cell_type": "code",
   "execution_count": 114,
   "id": "3a40038b-a2de-4d00-9786-79b94ae5000c",
   "metadata": {},
   "outputs": [],
   "source": [
    "s = {k:v for k, v in sorted(Counter(hist['aahed'].values()).items(), key=lambda i: i[1], reverse=True)}"
   ]
  },
  {
   "cell_type": "code",
   "execution_count": 115,
   "id": "4bf7e770-42f5-44ed-be73-086f72ff2777",
   "metadata": {
    "tags": []
   },
   "outputs": [
    {
     "data": {
      "image/png": "[encoded data removed]",
      "text/plain": [
       "<Figure size 1080x576 with 1 Axes>"
      ]
     },
     "metadata": {
      "needs_background": "light"
     },
     "output_type": "display_data"
    }
   ],
   "source": [
    "plt.figure(figsize = (15,8))\n",
    "ax = sns.barplot(x=[x for x in s.keys()], y=[y / len(answers) for y in s.values()])\n",
    "ax.set_xticklabels(ax.get_xticklabels(),rotation = 90)\n",
    "plt.show()"
   ]
  },
  {
   "cell_type": "code",
   "execution_count": 263,
   "id": "d32443e6-a93d-44c7-9c0b-8a385d448ab5",
   "metadata": {},
   "outputs": [],
   "source": [
    "def check_cand(guess, template, candidate):\n",
    "    \"\"\" True if guess and hit/miss template is compatible \n",
    "        for a given possible answer candidate \"\"\"\n",
    "    for l1, l2, t in zip(guess, candidate, template):\n",
    "        if l1 == l2 and t != 'X':\n",
    "            # print((l1, l2), t, (guess, candidate), template, \"   l1 == l2 and t != 'X':\")\n",
    "            return False\n",
    "        if l1 != l2 and t == 'X':\n",
    "            # print((l1, l2), t, (guess, candidate),template,\"   l1 != l2 and t == 'X':\")\n",
    "            return False\n",
    "        if l1 not in candidate and t == 'O':\n",
    "            # print((l1, l2), t, (guess, candidate),template,\"   l1 not in candidate and t == 'O':\")\n",
    "            return False\n",
    "        if l1 in candidate and t == '-':\n",
    "            # print((l1, l2), t, (guess, candidate),template,\"   l1 in candidate and t == '-':\")\n",
    "            return False\n",
    "    return True\n",
    "\n",
    "def narrow_down(guess, template, words_left=answers.copy()):\n",
    "    \"\"\" Accepts a wordle guess, and the number of words left;\n",
    "        defaults to all possible words left (for 1st turn) \n",
    "        and returns list of remaining possible words \"\"\"\n",
    "    return [cand for cand in words_left if check_cand(guess, template, cand)]"
   ]
  },
  {
   "cell_type": "code",
   "execution_count": 255,
   "id": "9ad73632-e182-4adc-92e5-a2eb2bf61af3",
   "metadata": {},
   "outputs": [],
   "source": [
    "def make_template(pred, gold):\n",
    "    template = \"\"\n",
    "    for l1, l2 in zip(pred, gold):\n",
    "        if l1 == l2:\n",
    "            template += \"X\"\n",
    "        elif l1 in gold:\n",
    "            template += \"O\"\n",
    "        else:\n",
    "            template += \"-\"\n",
    "    return template"
   ]
  },
  {
   "cell_type": "code",
   "execution_count": 269,
   "id": "2e799646-f392-49e3-85ad-7ea4fb76f442",
   "metadata": {},
   "outputs": [],
   "source": [
    "g_dict = {}\n",
    "all_left = allowed_left + answers_left\n",
    "all_left.sort()\n",
    "for guess in all_left: # a possible word that is allowed\n",
    "    gbin[guess] = {}\n",
    "    for answer in answers_left:  # a potential answer\n",
    "        template = make_template(guess, answer)\n",
    "        gbin[guess][template] = narrow_down(guess, template, answers_left)"
   ]
  },
  {
   "cell_type": "code",
   "execution_count": 300,
   "id": "16597e58-6774-42cc-8d72-3cc251b233ff",
   "metadata": {},
   "outputs": [
    {
     "data": {
      "text/plain": [
       "2.0"
      ]
     },
     "execution_count": 300,
     "metadata": {},
     "output_type": "execute_result"
    }
   ],
   "source": [
    "np.log2(4)"
   ]
  },
  {
   "cell_type": "code",
   "execution_count": 301,
   "id": "1ae639af-3c16-46d7-aaf8-57c5ce17b3ab",
   "metadata": {
    "tags": []
   },
   "outputs": [
    {
     "name": "stdout",
     "output_type": "stream",
     "text": [
      "* reccy [1.0]\n",
      "* recto [1.0]\n",
      "* ricer [1.0]\n",
      "* ricey [1.0]\n"
     ]
    }
   ],
   "source": [
    "entropy_bin = []\n",
    "\n",
    "for guess in gbin:\n",
    "    # print(guess)\n",
    "    entropy = 0\n",
    "    for template in gbin[guess]:\n",
    "        # print(f\".... {template}:  {', '.join(gbin[guess][template])}\")\n",
    "        entropy += np.log2(len(gbin[guess][template]))\n",
    "    # print(f\"Entropy score (higher is worse): {entropy}\")\n",
    "    entropy_bin += [(guess, entropy)]\n",
    "\n",
    "entropy_bin.sort(key=lambda x: x[1], reverse=True)\n",
    "best = [x for x in entropy_bin if x[1] == entropy_bin[-1][1]]\n",
    "\n",
    "# print(\"Best guess(es): \")\n",
    "for (guess, entropy_val) in best:\n",
    "    print(f\"* {guess} [{entropy_val}]\")"
   ]
  },
  {
   "cell_type": "code",
   "execution_count": 154,
   "id": "6f92208d-398c-4e6e-800e-f089bf3ef487",
   "metadata": {},
   "outputs": [],
   "source": [
    "def score_word(word, guess, entropy=True, left=answers):\n",
    "    score = \"\"\n",
    "    words_left = set(left.copy())\n",
    "    for i, (l1, l2) in enumerate(zip(word, guess)):\n",
    "        if l1 == l2:\n",
    "            score += \"X\"\n",
    "            words_left = [x for x in words_left if x[i] == l1]\n",
    "        elif l2 in word:\n",
    "            score += \"O\"\n",
    "            words_left = [x for x in words_left if l1 in x]\n",
    "        else:\n",
    "            score += \"-\"\n",
    "            words_left = [x for x in words_left if l1 not in x]\n",
    "    return score, words_left"
   ]
  },
  {
   "cell_type": "code",
   "execution_count": 204,
   "id": "5374dcc8-e331-404c-bbca-c4a52975194f",
   "metadata": {},
   "outputs": [],
   "source": [
    "guess_bin = {}\n",
    "overall = {}\n",
    "for guess in narrow:\n",
    "    guess_bin[guess] = {}\n",
    "    overall[guess] = 0.0\n",
    "    for pos in narrow:\n",
    "        pattern, wo_left = score_word(pos, guess, left=narrow)\n",
    "        if len(wo_left) == 0:\n",
    "            continue\n",
    "        guess_bin[guess][pos] = (pattern, len(wo_left))\n",
    "        overall[guess] += len(wo_left)"
   ]
  },
  {
   "cell_type": "code",
   "execution_count": null,
   "id": "4f245551-0d8c-491b-9065-f15615fcd89c",
   "metadata": {},
   "outputs": [],
   "source": [
    "for word in narrow:\n",
    "    if l1 == \"c\" and (l1 == l2 or l1 not in pos):\n",
    "        good = False\n",
    "        break\n",
    "    if l1 == \"r\" and (l1 == l2 or l1 not in pos):\n",
    "        print(\"2\")\n",
    "        good = False\n",
    "        break\n",
    "    if l1 == \"e\" and (l1 == l2 or l1 not in pos):\n",
    "        print(\"3\")\n",
    "        good = False\n",
    "        break\n",
    "    if good:\n",
    "        crane_cre_allowed += [pos]"
   ]
  },
  {
   "cell_type": "code",
   "execution_count": null,
   "id": "63bd66ad-aa0f-4633-9f5d-cc62e76ff0e7",
   "metadata": {},
   "outputs": [],
   "source": []
  },
  {
   "cell_type": "code",
   "execution_count": null,
   "id": "c1dfb30d-ea2b-4f63-a98a-da5f361c4e56",
   "metadata": {},
   "outputs": [],
   "source": []
  },
  {
   "cell_type": "code",
   "execution_count": null,
   "id": "56656e41-2f4e-44ee-827d-4da209872dad",
   "metadata": {},
   "outputs": [],
   "source": []
  },
  {
   "cell_type": "code",
   "execution_count": null,
   "id": "64778502-e7cf-4c45-b95d-f4153b71a68d",
   "metadata": {},
   "outputs": [],
   "source": []
  }
 ],
 "metadata": {
  "kernelspec": {
   "display_name": "Python 3 (ipykernel)",
   "language": "python",
   "name": "python3"
  },
  "language_info": {
   "codemirror_mode": {
    "name": "ipython",
    "version": 3
   },
   "file_extension": ".py",
   "mimetype": "text/x-python",
   "name": "python",
   "nbconvert_exporter": "python",
   "pygments_lexer": "ipython3",
   "version": "3.10.0"
  }
 },
 "nbformat": 4,
 "nbformat_minor": 5
}
